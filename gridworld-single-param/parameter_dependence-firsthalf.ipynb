{
 "cells": [
  {
   "cell_type": "markdown",
   "id": "7856bcce-fa7d-4878-a27d-13f56f04b221",
   "metadata": {},
   "source": [
    "# Plot estimate from the algorithm $\\hat{\\theta}$ vs true $\\theta^*$"
   ]
  },
  {
   "cell_type": "code",
   "execution_count": 1,
   "id": "17c90354-b24d-466a-aebb-6f7d918f2395",
   "metadata": {},
   "outputs": [],
   "source": [
    "import matplotlib.pyplot as plt\n",
    "import math, time\n",
    "import sys\n",
    "import random\n",
    "import numpy as np\n",
    "sys.path.append('gridworld-gym-master/')\n",
    "\n",
    "import gym\n",
    "import gym_partially_observable_grid\n",
    "from functions_es_gridworld import *"
   ]
  },
  {
   "cell_type": "code",
   "execution_count": 2,
   "id": "96449731-68ea-4a57-a6c5-320a688cfd57",
   "metadata": {},
   "outputs": [],
   "source": [
    "seed_val=2\n",
    "np.random.seed(seed_val)\n",
    "random.seed(seed_val)"
   ]
  },
  {
   "cell_type": "code",
   "execution_count": 3,
   "id": "1706321a-56f8-45d1-b9cd-892d89de3358",
   "metadata": {},
   "outputs": [],
   "source": [
    "T = 200000\n",
    "alpha = 1\n",
    "beta = 0.9 #beta must be less than alpha\n",
    "\n",
    "eps = 3\n",
    "A=0.1\n",
    "B=1\n",
    "tau=50\n",
    "gamma=0.1\n",
    "world_to_mimic='world2'\n",
    "new_world_name='world2_new'"
   ]
  },
  {
   "cell_type": "code",
   "execution_count": 4,
   "id": "eec007f4-5f7f-400a-8ecb-f901a5412cfb",
   "metadata": {},
   "outputs": [],
   "source": [
    "num_true_vals = 10\n",
    "num_init_vals = 10\n",
    "start_loc = 0 #first half\n",
    "end_loc = 5 #end where the next one begins\n",
    "# theta_init_all = np.linspace(1e-3, 1-1e-3, num=num_init_vals)\n",
    "theta_init_all = np.random.rand(num_init_vals)\n",
    "results_all = [[None]*num_init_vals for _ in range(num_true_vals)]\n",
    "theta_hat_t_all = np.zeros((T, num_init_vals, num_true_vals))\n",
    "theta_hat_mean_all = np.zeros((num_true_vals,))\n",
    "theta_star_all = np.linspace(1e-3, 1-1e-3, num=num_true_vals) #analyse the last five values\n",
    "# theta_star_all = [0.6]\n",
    "avg_over = 4000 #one period at T"
   ]
  },
  {
   "cell_type": "code",
   "execution_count": null,
   "id": "4124a234-d2dc-4547-9772-3de43afd2913",
   "metadata": {},
   "outputs": [
    {
     "name": "stdout",
     "output_type": "stream",
     "text": [
      "run 1 for theta_star=0.001 done\n",
      "run 2 for theta_star=0.001 done\n",
      "run 3 for theta_star=0.001 done\n",
      "run 4 for theta_star=0.001 done\n",
      "run 5 for theta_star=0.001 done\n",
      "run 6 for theta_star=0.001 done\n",
      "run 7 for theta_star=0.001 done\n",
      "run 8 for theta_star=0.001 done\n"
     ]
    }
   ],
   "source": [
    "np.random.seed(0)\n",
    "random.seed(0)\n",
    "\n",
    "ticx = time.perf_counter()\n",
    "for j in range(start_loc,end_loc):\n",
    "    theta_star_j = theta_star_all[j]\n",
    "    for i in range(num_init_vals):\n",
    "        results_all[j][i] = estimate_theta_es_gridworld(theta_init_all[i], theta_star_j, T=T, alpha = alpha, beta = beta, eps = eps, \\\n",
    "                                A=A, B=B, tau=tau, gamma=gamma,\\\n",
    "                                world_to_mimic=world_to_mimic, new_world_name=new_world_name,\\\n",
    "                                rule_id_new='1', action_attempt_new=[0, 1, 2, 3],\\\n",
    "                                act_prob_pairs_new=[[(k,theta_star_j), (-1,1-theta_star_j)] for k in range(4)])\n",
    "        theta_hat_t_all[:,i,j] = results_all[j][i]['theta_hat_t']\n",
    "        print(f\"run {i+1} for theta_star={theta_star_j} done\")\n",
    "        \n",
    "        with open('status_firsthalf.txt', 'w+') as f:\n",
    "            f.write(f\"theta_star={round(theta_star_j, 3)}, run {i+1} done \\nRuntime:{time.perf_counter()-ticx}s\")\n",
    "    \n",
    "    #save after all runs of a particular theta_star are complete\n",
    "    np.savez('./results/algoperf-'+str(j)+'.npz', T=T, A=A, B=B, tau=tau,\\\n",
    "     world_to_mimic=world_to_mimic,new_world_name=new_world_name, \\\n",
    "    eps=eps, gamma=gamma, alpha=alpha, beta=beta, avg_over=avg_over,\\\n",
    "    num_init_vals= num_init_vals, num_true_vals=num_true_vals, theta_init_all=theta_init_all, \\\n",
    "    results_all=results_all, theta_hat_t_all=theta_hat_t_all, theta_hat_mean_all=theta_hat_mean_all,\\\n",
    "    theta_star_all=theta_star_all)\n",
    "    \n",
    "    #plot all runs of particular theta_star\n",
    "    fig, ax = plt.subplots()\n",
    "    for ix in range(num_init_vals):\n",
    "        ax.plot(theta_hat_t_all[:,ix,j])\n",
    "    ax.hlines(theta_star_j, 0, T, linestyles='dashed', colors='k', label='theta_star')\n",
    "    ax.set_xlabel('time')\n",
    "    ax.legend()\n",
    "    ax.set_ylabel(r'$\\theta$')\n",
    "    ax.set_title(r\"$\\hat{\\theta}$ vs time\")\n",
    "    plt.savefig('./figures_temporary/runs_theta_star'+str(round(theta_star_j, 3))+'.png')\n",
    "    \n",
    "    print(f\"theta_star={theta_star_j} done\")\n",
    "    theta_hat_mean_all[j] = np.mean(np.mean(theta_hat_t_all[-avg_over:,:,j], axis=0)) #average over the last 200 steps\n",
    "tocx = time.perf_counter()\n",
    "print(f\"time={tocx-ticx}s\")"
   ]
  },
  {
   "cell_type": "code",
   "execution_count": null,
   "id": "ada5be2b-34a7-4edf-8dd8-b6cf98107879",
   "metadata": {},
   "outputs": [],
   "source": [
    "theta_hat_t_pravg = np.zeros(theta_hat_t_all.shape)\n",
    "for j in range(num_true_vals):\n",
    "    for i in range(num_init_vals):\n",
    "        for t in range(T):\n",
    "            # theta_hat_t_pravg[t, i,j] = np.mean(theta_hat_t_all[int(2*t/3):t+1, i, j])\n",
    "            if t>0:\n",
    "                theta_hat_t_pravg[t, i,j] = theta_hat_t_pravg[t-1, i,j] + (1/t)*(theta_hat_t_all[t, i,j]-theta_hat_t_pravg[t-1, i,j])"
   ]
  },
  {
   "cell_type": "code",
   "execution_count": null,
   "id": "c95c31dc-f017-4c44-bbc6-46dd887dd5ad",
   "metadata": {},
   "outputs": [],
   "source": [
    "theta_hat_mean_pravg = np.mean(np.mean(theta_hat_t_pravg[-avg_over:,:,:], axis=0), axis=0)"
   ]
  },
  {
   "cell_type": "code",
   "execution_count": null,
   "id": "8c31b913-99ea-482c-b35f-20e6cff708b4",
   "metadata": {},
   "outputs": [],
   "source": [
    "np.savez('./results/algoperf-first5.npz', T=T, A=A, B=B, tau=tau,\\\n",
    "         world_to_mimic=world_to_mimic,new_world_name=new_world_name, \\\n",
    "        eps=eps, gamma=gamma, alpha=alpha, beta=beta, avg_over=avg_over,\\\n",
    "        num_init_vals= num_init_vals, num_true_vals=num_true_vals, theta_init_all=theta_init_all, \\\n",
    "        results_all=results_all, theta_hat_t_all=theta_hat_t_all, theta_hat_mean_all=theta_hat_mean_all,\\\n",
    "        theta_star_all=theta_star_all, theta_hat_t_pravg=theta_hat_t_pravg, theta_hat_mean_pravg=theta_hat_mean_pravg)"
   ]
  },
  {
   "cell_type": "code",
   "execution_count": null,
   "id": "61f2152a-852a-44d7-a4fa-7671ce40ddbc",
   "metadata": {},
   "outputs": [],
   "source": [
    "for j in range(num_true_vals):\n",
    "    plt.scatter([theta_star_all[j]]*num_init_vals, np.mean(theta_hat_t_all[-avg_over:,:,j], axis=0))\n",
    "plt.plot(theta_star_all, theta_star_all, '--', label=\"y=x\")\n",
    "plt.plot(theta_star_all, theta_hat_mean_all, 'k*', label=r\"$\\hat{\\theta}$\")\n",
    "plt.xlabel(r\"$\\theta^*$\")\n",
    "# plt.vlines(dep_rate, 0, 1, linestyles='dashed', label=\"dep_rate\", colors='gray')\n",
    "plt.ylabel(r\"parameter estimate $\\hat{\\theta}$\")\n",
    "plt.title(r\"$\\hat{\\theta}$ vs $\\theta^*$: Gridworld\")\n",
    "plt.legend()"
   ]
  },
  {
   "cell_type": "code",
   "execution_count": null,
   "id": "9eeadb54-8340-44e7-919d-a5759d382524",
   "metadata": {},
   "outputs": [],
   "source": [
    "plt.plot(theta_star_all, theta_hat_mean_all, '*', label=r\"$\\hat{\\theta}$\")\n",
    "plt.plot(theta_star_all, theta_star_all, '--', label=\"y=x\")\n",
    "# plt.vlines(dep_rate, 0, 1, linestyles='dashed', label=\"dep_rate\", colors='k')\n",
    "plt.xlabel(r\"$\\theta^*$\")\n",
    "plt.ylabel(r\"parameter estimate $\\hat{\\theta}$\")\n",
    "plt.title(\"Results-Gridworld\")\n",
    "plt.legend()"
   ]
  },
  {
   "cell_type": "code",
   "execution_count": null,
   "id": "9d38e145-b314-4d64-932c-eeb19a534435",
   "metadata": {},
   "outputs": [],
   "source": [
    "for p in range(5):\n",
    "    plt.plot(theta_hat_t_all[:,p,4])\n",
    "plt.hlines(theta_star_all[4], 0, T, linestyles='dashed', colors='k')\n",
    "# plt.ylim(0,0.01)"
   ]
  },
  {
   "cell_type": "code",
   "execution_count": null,
   "id": "b72627c1-82d4-422b-b9c9-6c27f5d63ff7",
   "metadata": {},
   "outputs": [],
   "source": [
    "for p in range(10):\n",
    "    plt.plot([np.mean(theta_hat_t_all[:i+1,p,5]) for i in range(T)])\n",
    "plt.hlines(theta_star_all[5], 0, T, linestyles='dashed', colors='k')\n",
    "# plt.ylim(0,0.01)"
   ]
  },
  {
   "cell_type": "code",
   "execution_count": null,
   "id": "b52919ff-04c4-4b44-abca-1064e3fccb9e",
   "metadata": {},
   "outputs": [],
   "source": [
    "fig, ax = plt.subplots(5, 2, squeeze=True, sharex=True, sharey=True, figsize=(12, 14))\n",
    "\n",
    "for k in range(num_true_vals):\n",
    "    for i in range(num_init_vals):\n",
    "        ax[k//2, k%2].plot(theta_hat_t_all[:,i,k])\n",
    "    ax[k//2, k%2].hlines(theta_star_all[k], 0, T, linestyles='dashed', colors='k')\n",
    "    ax[k//2, k%2].set_title(f\"theta_star={round(theta_star_all[k],3)}\")\n",
    "plt.tight_layout()\n",
    "fig.suptitle(r\"$\\hat{\\theta}$ (Gridworld)\",y=1.01)"
   ]
  },
  {
   "cell_type": "code",
   "execution_count": null,
   "id": "99939727-39f5-4fbb-95c3-27b7d3dfcac3",
   "metadata": {},
   "outputs": [],
   "source": [
    "theta_hat_t_all.shape"
   ]
  },
  {
   "cell_type": "code",
   "execution_count": null,
   "id": "d1e9c00e-fa4e-48b0-be16-39aceebed8ed",
   "metadata": {},
   "outputs": [],
   "source": [
    "for j in range(num_true_vals):\n",
    "    plt.scatter([theta_star_all[j]]*num_init_vals, np.mean(theta_hat_t_pravg[-avg_over:,:,j], axis=0))\n",
    "plt.plot(theta_star_all, theta_star_all, '--', label=\"y=x\")\n",
    "plt.plot(theta_star_all, theta_hat_mean_pravg, 'k*', label=r\"$\\hat{\\theta}$\")\n",
    "plt.xlabel(r\"$\\theta^*$\")\n",
    "# plt.vlines(dep_rate, 0, 1, linestyles='dashed', label=\"dep_rate\", colors='gray')\n",
    "plt.ylabel(r\"parameter estimate $\\hat{\\theta}$\")\n",
    "plt.title(r\"$\\hat{\\theta}$ vs $\\theta^*$: Gridworld (PR averaging)\")\n",
    "plt.legend()"
   ]
  },
  {
   "cell_type": "code",
   "execution_count": null,
   "id": "d25a11e1-d5c1-441a-9d6f-c022b6703269",
   "metadata": {},
   "outputs": [],
   "source": [
    "plt.plot(theta_star_all, theta_hat_mean_pravg, '*', label=r\"$\\hat{\\theta}$\")\n",
    "plt.plot(theta_star_all, theta_star_all, '--', label=\"y=x\")\n",
    "# plt.vlines(dep_rate, 0, 1, linestyles='dashed', label=\"dep_rate\", colors='k')\n",
    "plt.xlabel(r\"$\\theta^*$\")\n",
    "plt.ylabel(r\"parameter estimate $\\hat{\\theta}$\")\n",
    "plt.title(\"Results- Gridworld with PR averaging\")\n",
    "plt.legend()"
   ]
  },
  {
   "cell_type": "code",
   "execution_count": null,
   "id": "9aba4136-a4e6-4134-aea0-c1dd1189ddf4",
   "metadata": {},
   "outputs": [],
   "source": [
    "fig, ax = plt.subplots(5, 2, squeeze=True, figsize=(12,14), sharex=True, sharey=True)\n",
    "\n",
    "for k in range(num_true_vals):\n",
    "    for i in range(num_init_vals):\n",
    "        ax[k//2, k%2].plot(theta_hat_t_pravg[:,i,k])\n",
    "    ax[k//2, k%2].hlines(theta_star_all[k], 0, T, linestyles='dashed', colors='k')\n",
    "    ax[k//2, k%2].set_title(f\"theta_star={round(theta_star_all[k], 3)}\")\n",
    "plt.tight_layout()\n",
    "fig.suptitle(\"PR Averaging\", y=1.01)"
   ]
  },
  {
   "cell_type": "code",
   "execution_count": null,
   "id": "0d22dc1f-4862-41c1-a4ed-e5c289c067cc",
   "metadata": {
    "tags": []
   },
   "outputs": [],
   "source": [
    "# import dill\n",
    "# dill.dump_session('./saved_sessions/algo_performance_gridworld3.db')"
   ]
  },
  {
   "cell_type": "code",
   "execution_count": null,
   "id": "f4f893fd-b918-458e-adb2-87f49158dcea",
   "metadata": {},
   "outputs": [],
   "source": []
  }
 ],
 "metadata": {
  "kernelspec": {
   "display_name": "Python 3 (ipykernel)",
   "language": "python",
   "name": "python3"
  },
  "language_info": {
   "codemirror_mode": {
    "name": "ipython",
    "version": 3
   },
   "file_extension": ".py",
   "mimetype": "text/x-python",
   "name": "python",
   "nbconvert_exporter": "python",
   "pygments_lexer": "ipython3",
   "version": "3.10.6"
  }
 },
 "nbformat": 4,
 "nbformat_minor": 5
}
