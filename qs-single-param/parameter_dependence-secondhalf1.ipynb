{
 "cells": [
  {
   "cell_type": "markdown",
   "id": "7856bcce-fa7d-4878-a27d-13f56f04b221",
   "metadata": {},
   "source": [
    "# Plot estimate from the algorithm $\\hat{\\theta}$ vs true $\\theta^*$"
   ]
  },
  {
   "cell_type": "code",
   "execution_count": 1,
   "id": "17c90354-b24d-466a-aebb-6f7d918f2395",
   "metadata": {},
   "outputs": [],
   "source": [
    "import numpy as np\n",
    "import matplotlib.pyplot as plt\n",
    "import math, time\n",
    "from functions_queueing_system import *\n",
    "from functions_extremum_seeking import *\n",
    "import random"
   ]
  },
  {
   "cell_type": "code",
   "execution_count": 2,
   "id": "96449731-68ea-4a57-a6c5-320a688cfd57",
   "metadata": {},
   "outputs": [],
   "source": [
    "seed_val=2\n",
    "np.random.seed(seed_val)\n",
    "random.seed(seed_val)"
   ]
  },
  {
   "cell_type": "code",
   "execution_count": 3,
   "id": "1706321a-56f8-45d1-b9cd-892d89de3358",
   "metadata": {},
   "outputs": [],
   "source": [
    "M = 100\n",
    "K = 50\n",
    "T = 200000\n",
    "\n",
    "dep_rate = [0.3, 0.6]\n",
    "eps = 1\n",
    "gamma = 0.1\n",
    "alpha = 1\n",
    "beta = 0.9\n",
    "avg_over = 100\n",
    "A = 0.01\n",
    "B = 10 #was 10 before"
   ]
  },
  {
   "cell_type": "markdown",
   "id": "673ec349-f401-4c85-8d48-aaa9d934bb10",
   "metadata": {},
   "source": [
    "# Test performance on multiple runs"
   ]
  },
  {
   "cell_type": "code",
   "execution_count": 4,
   "id": "eec007f4-5f7f-400a-8ecb-f901a5412cfb",
   "metadata": {},
   "outputs": [],
   "source": [
    "num_true_vals = 20\n",
    "num_init_vals = 5\n",
    "# theta_init_all = np.linspace(1e-3, 1-1e-3, num=num_init_vals)\n",
    "theta_init_all = np.random.rand(num_init_vals)\n",
    "results_all = [[None]*num_init_vals for _ in range(num_true_vals)] #made a change to save results properly, need to run it at some point (do it in the evening today)\n",
    "theta_hat_t_all = np.zeros((T, num_init_vals, num_true_vals))\n",
    "theta_hat_mean_all = np.zeros((num_true_vals,))\n",
    "theta_star_all = np.linspace(1e-3, 1-1e-3, num=num_true_vals)"
   ]
  },
  {
   "cell_type": "code",
   "execution_count": 6,
   "id": "4124a234-d2dc-4547-9772-3de43afd2913",
   "metadata": {},
   "outputs": [
    {
     "name": "stdout",
     "output_type": "stream",
     "text": [
      "theta_star=0.5262631578947369 run=1 done\n",
      "theta_star=0.5262631578947369 run=2 done\n",
      "theta_star=0.5262631578947369 run=3 done\n",
      "theta_star=0.5262631578947369 run=4 done\n",
      "theta_star=0.5262631578947369 run=5 done\n",
      "theta_star=0.5262631578947369 done\n",
      "theta_star=0.5787894736842105 run=1 done\n",
      "theta_star=0.5787894736842105 run=2 done\n",
      "theta_star=0.5787894736842105 run=3 done\n",
      "theta_star=0.5787894736842105 run=4 done\n",
      "theta_star=0.5787894736842105 run=5 done\n",
      "theta_star=0.5787894736842105 done\n",
      "theta_star=0.6313157894736842 run=1 done\n",
      "theta_star=0.6313157894736842 run=2 done\n",
      "theta_star=0.6313157894736842 run=3 done\n",
      "theta_star=0.6313157894736842 run=4 done\n",
      "theta_star=0.6313157894736842 run=5 done\n",
      "theta_star=0.6313157894736842 done\n",
      "theta_star=0.6838421052631579 run=1 done\n",
      "theta_star=0.6838421052631579 run=2 done\n",
      "theta_star=0.6838421052631579 run=3 done\n",
      "theta_star=0.6838421052631579 run=4 done\n",
      "theta_star=0.6838421052631579 run=5 done\n",
      "theta_star=0.6838421052631579 done\n",
      "theta_star=0.7363684210526316 run=1 done\n",
      "theta_star=0.7363684210526316 run=2 done\n",
      "theta_star=0.7363684210526316 run=3 done\n",
      "theta_star=0.7363684210526316 run=4 done\n",
      "theta_star=0.7363684210526316 run=5 done\n",
      "theta_star=0.7363684210526316 done\n",
      "theta_star=0.7888947368421053 run=1 done\n",
      "theta_star=0.7888947368421053 run=2 done\n",
      "theta_star=0.7888947368421053 run=3 done\n",
      "theta_star=0.7888947368421053 run=4 done\n",
      "theta_star=0.7888947368421053 run=5 done\n",
      "theta_star=0.7888947368421053 done\n",
      "theta_star=0.841421052631579 run=1 done\n",
      "theta_star=0.841421052631579 run=2 done\n",
      "theta_star=0.841421052631579 run=3 done\n",
      "theta_star=0.841421052631579 run=4 done\n",
      "theta_star=0.841421052631579 run=5 done\n",
      "theta_star=0.841421052631579 done\n",
      "theta_star=0.8939473684210526 run=1 done\n",
      "theta_star=0.8939473684210526 run=2 done\n",
      "theta_star=0.8939473684210526 run=3 done\n",
      "theta_star=0.8939473684210526 run=4 done\n",
      "theta_star=0.8939473684210526 run=5 done\n",
      "theta_star=0.8939473684210526 done\n",
      "theta_star=0.9464736842105264 run=1 done\n",
      "theta_star=0.9464736842105264 run=2 done\n",
      "theta_star=0.9464736842105264 run=3 done\n",
      "theta_star=0.9464736842105264 run=4 done\n",
      "theta_star=0.9464736842105264 run=5 done\n",
      "theta_star=0.9464736842105264 done\n",
      "theta_star=0.999 run=1 done\n",
      "theta_star=0.999 run=2 done\n",
      "theta_star=0.999 run=3 done\n",
      "theta_star=0.999 run=4 done\n",
      "theta_star=0.999 run=5 done\n"
     ]
    },
    {
     "ename": "MemoryError",
     "evalue": "",
     "output_type": "error",
     "traceback": [
      "\u001b[1;31m---------------------------------------------------------------------------\u001b[0m",
      "\u001b[1;31mMemoryError\u001b[0m                               Traceback (most recent call last)",
      "Input \u001b[1;32mIn [6]\u001b[0m, in \u001b[0;36m<cell line: 13>\u001b[1;34m()\u001b[0m\n\u001b[0;32m     21\u001b[0m         f\u001b[38;5;241m.\u001b[39mwrite(\u001b[38;5;124mf\u001b[39m\u001b[38;5;124m\"\u001b[39m\u001b[38;5;124mtheta_star=\u001b[39m\u001b[38;5;132;01m{\u001b[39;00mtheta_star_j\u001b[38;5;132;01m}\u001b[39;00m\u001b[38;5;124m (\u001b[39m\u001b[38;5;132;01m{\u001b[39;00mj\u001b[38;5;241m+\u001b[39m\u001b[38;5;241m1\u001b[39m\u001b[38;5;241m-\u001b[39mstart\u001b[38;5;132;01m}\u001b[39;00m\u001b[38;5;124m/\u001b[39m\u001b[38;5;132;01m{\u001b[39;00mend\u001b[38;5;241m-\u001b[39mstart\u001b[38;5;132;01m}\u001b[39;00m\u001b[38;5;124m) run=\u001b[39m\u001b[38;5;132;01m{\u001b[39;00mi\u001b[38;5;241m+\u001b[39m\u001b[38;5;241m1\u001b[39m\u001b[38;5;132;01m}\u001b[39;00m\u001b[38;5;124m/\u001b[39m\u001b[38;5;132;01m{\u001b[39;00mnum_init_vals\u001b[38;5;132;01m}\u001b[39;00m\u001b[38;5;124m done in \u001b[39m\u001b[38;5;132;01m{\u001b[39;00mtime\u001b[38;5;241m.\u001b[39mperf_counter()\u001b[38;5;241m-\u001b[39mtic\u001b[38;5;132;01m}\u001b[39;00m\u001b[38;5;124ms\u001b[39m\u001b[38;5;124m\"\u001b[39m)\n\u001b[0;32m     22\u001b[0m \u001b[38;5;28;01mif\u001b[39;00m (j\u001b[38;5;241m+\u001b[39m\u001b[38;5;241m1\u001b[39m)\u001b[38;5;241m%\u001b[39m\u001b[38;5;241m5\u001b[39m\u001b[38;5;241m==\u001b[39m\u001b[38;5;241m0\u001b[39m \u001b[38;5;129;01mor\u001b[39;00m j\u001b[38;5;241m==\u001b[39mnum_true_vals\u001b[38;5;241m-\u001b[39m\u001b[38;5;241m1\u001b[39m:\n\u001b[1;32m---> 23\u001b[0m     \u001b[43mnp\u001b[49m\u001b[38;5;241;43m.\u001b[39;49m\u001b[43msavez\u001b[49m\u001b[43m(\u001b[49m\u001b[38;5;124;43m'\u001b[39;49m\u001b[38;5;124;43m./results/algo_performance_qs_first-\u001b[39;49m\u001b[38;5;124;43m'\u001b[39;49m\u001b[38;5;241;43m+\u001b[39;49m\u001b[38;5;28;43mstr\u001b[39;49m\u001b[43m(\u001b[49m\u001b[43mj\u001b[49m\u001b[38;5;241;43m+\u001b[39;49m\u001b[38;5;241;43m1\u001b[39;49m\u001b[43m)\u001b[49m\u001b[38;5;241;43m+\u001b[39;49m\u001b[38;5;124;43m'\u001b[39;49m\u001b[38;5;124;43m.npz\u001b[39;49m\u001b[38;5;124;43m'\u001b[39;49m\u001b[43m,\u001b[49m\u001b[43m \u001b[49m\u001b[43mM\u001b[49m\u001b[38;5;241;43m=\u001b[39;49m\u001b[43mM\u001b[49m\u001b[43m,\u001b[49m\u001b[43m \u001b[49m\u001b[43mK\u001b[49m\u001b[38;5;241;43m=\u001b[39;49m\u001b[43mK\u001b[49m\u001b[43m,\u001b[49m\u001b[43m \u001b[49m\u001b[43mT\u001b[49m\u001b[38;5;241;43m=\u001b[39;49m\u001b[43mT\u001b[49m\u001b[43m,\u001b[49m\u001b[43m \u001b[49m\u001b[43m\\\u001b[49m\n\u001b[0;32m     24\u001b[0m \u001b[43m         \u001b[49m\u001b[43mdep_rate\u001b[49m\u001b[38;5;241;43m=\u001b[39;49m\u001b[43mdep_rate\u001b[49m\u001b[43m,\u001b[49m\u001b[43m \u001b[49m\u001b[43meps\u001b[49m\u001b[38;5;241;43m=\u001b[39;49m\u001b[43meps\u001b[49m\u001b[43m,\u001b[49m\u001b[43m \u001b[49m\u001b[43mgamma\u001b[49m\u001b[38;5;241;43m=\u001b[39;49m\u001b[43mgamma\u001b[49m\u001b[43m,\u001b[49m\u001b[43m \u001b[49m\u001b[43malpha\u001b[49m\u001b[38;5;241;43m=\u001b[39;49m\u001b[43malpha\u001b[49m\u001b[43m,\u001b[49m\u001b[43m \u001b[49m\u001b[43mbeta\u001b[49m\u001b[38;5;241;43m=\u001b[39;49m\u001b[43mbeta\u001b[49m\u001b[43m,\u001b[49m\u001b[43m \u001b[49m\u001b[43mavg_over\u001b[49m\u001b[38;5;241;43m=\u001b[39;49m\u001b[43mavg_over\u001b[49m\u001b[43m,\u001b[49m\u001b[43m\\\u001b[49m\n\u001b[0;32m     25\u001b[0m \u001b[43m        \u001b[49m\u001b[43mnum_init_vals\u001b[49m\u001b[38;5;241;43m=\u001b[39;49m\u001b[43m \u001b[49m\u001b[43mnum_init_vals\u001b[49m\u001b[43m,\u001b[49m\u001b[43m \u001b[49m\u001b[43mnum_true_vals\u001b[49m\u001b[38;5;241;43m=\u001b[39;49m\u001b[43mnum_true_vals\u001b[49m\u001b[43m,\u001b[49m\u001b[43m \u001b[49m\u001b[43mtheta_init_all\u001b[49m\u001b[38;5;241;43m=\u001b[39;49m\u001b[43mtheta_init_all\u001b[49m\u001b[43m,\u001b[49m\u001b[43m \u001b[49m\u001b[43m\\\u001b[49m\n\u001b[0;32m     26\u001b[0m \u001b[43m        \u001b[49m\u001b[43mresults_all\u001b[49m\u001b[38;5;241;43m=\u001b[39;49m\u001b[43mresults_all\u001b[49m\u001b[43m,\u001b[49m\u001b[43m \u001b[49m\u001b[43mtheta_hat_t_all\u001b[49m\u001b[38;5;241;43m=\u001b[39;49m\u001b[43mtheta_hat_t_all\u001b[49m\u001b[43m,\u001b[49m\u001b[43m \u001b[49m\u001b[43mtheta_hat_mean_all\u001b[49m\u001b[38;5;241;43m=\u001b[39;49m\u001b[43mtheta_hat_mean_all\u001b[49m\u001b[43m,\u001b[49m\u001b[43m\\\u001b[49m\n\u001b[0;32m     27\u001b[0m \u001b[43m        \u001b[49m\u001b[43mtheta_star_all\u001b[49m\u001b[38;5;241;43m=\u001b[39;49m\u001b[43mtheta_star_all\u001b[49m\u001b[43m)\u001b[49m\n\u001b[0;32m     28\u001b[0m \u001b[38;5;28mprint\u001b[39m(\u001b[38;5;124mf\u001b[39m\u001b[38;5;124m\"\u001b[39m\u001b[38;5;124mtheta_star=\u001b[39m\u001b[38;5;132;01m{\u001b[39;00mtheta_star_j\u001b[38;5;132;01m}\u001b[39;00m\u001b[38;5;124m done\u001b[39m\u001b[38;5;124m\"\u001b[39m)\n\u001b[0;32m     29\u001b[0m theta_hat_mean_all[j] \u001b[38;5;241m=\u001b[39m np\u001b[38;5;241m.\u001b[39mmean(np\u001b[38;5;241m.\u001b[39mmean(theta_hat_t_all[\u001b[38;5;241m-\u001b[39mavg_over:,:,j], axis\u001b[38;5;241m=\u001b[39m\u001b[38;5;241m0\u001b[39m)) \u001b[38;5;66;03m#average over the last 200 steps\u001b[39;00m\n",
      "File \u001b[1;32m<__array_function__ internals>:180\u001b[0m, in \u001b[0;36msavez\u001b[1;34m(*args, **kwargs)\u001b[0m\n",
      "File \u001b[1;32m~\\miniconda3\\envs\\ddp\\lib\\site-packages\\numpy\\lib\\npyio.py:595\u001b[0m, in \u001b[0;36msavez\u001b[1;34m(file, *args, **kwds)\u001b[0m\n\u001b[0;32m    511\u001b[0m \u001b[38;5;129m@array_function_dispatch\u001b[39m(_savez_dispatcher)\n\u001b[0;32m    512\u001b[0m \u001b[38;5;28;01mdef\u001b[39;00m \u001b[38;5;21msavez\u001b[39m(file, \u001b[38;5;241m*\u001b[39margs, \u001b[38;5;241m*\u001b[39m\u001b[38;5;241m*\u001b[39mkwds):\n\u001b[0;32m    513\u001b[0m     \u001b[38;5;124;03m\"\"\"Save several arrays into a single file in uncompressed ``.npz`` format.\u001b[39;00m\n\u001b[0;32m    514\u001b[0m \n\u001b[0;32m    515\u001b[0m \u001b[38;5;124;03m    Provide arrays as keyword arguments to store them under the\u001b[39;00m\n\u001b[1;32m   (...)\u001b[0m\n\u001b[0;32m    593\u001b[0m \n\u001b[0;32m    594\u001b[0m \u001b[38;5;124;03m    \"\"\"\u001b[39;00m\n\u001b[1;32m--> 595\u001b[0m     \u001b[43m_savez\u001b[49m\u001b[43m(\u001b[49m\u001b[43mfile\u001b[49m\u001b[43m,\u001b[49m\u001b[43m \u001b[49m\u001b[43margs\u001b[49m\u001b[43m,\u001b[49m\u001b[43m \u001b[49m\u001b[43mkwds\u001b[49m\u001b[43m,\u001b[49m\u001b[43m \u001b[49m\u001b[38;5;28;43;01mFalse\u001b[39;49;00m\u001b[43m)\u001b[49m\n",
      "File \u001b[1;32m~\\miniconda3\\envs\\ddp\\lib\\site-packages\\numpy\\lib\\npyio.py:699\u001b[0m, in \u001b[0;36m_savez\u001b[1;34m(file, args, kwds, compress, allow_pickle, pickle_kwargs)\u001b[0m\n\u001b[0;32m    697\u001b[0m     \u001b[38;5;66;03m# always force zip64, gh-10776\u001b[39;00m\n\u001b[0;32m    698\u001b[0m     \u001b[38;5;28;01mwith\u001b[39;00m zipf\u001b[38;5;241m.\u001b[39mopen(fname, \u001b[38;5;124m'\u001b[39m\u001b[38;5;124mw\u001b[39m\u001b[38;5;124m'\u001b[39m, force_zip64\u001b[38;5;241m=\u001b[39m\u001b[38;5;28;01mTrue\u001b[39;00m) \u001b[38;5;28;01mas\u001b[39;00m fid:\n\u001b[1;32m--> 699\u001b[0m         \u001b[38;5;28;43mformat\u001b[39;49m\u001b[38;5;241;43m.\u001b[39;49m\u001b[43mwrite_array\u001b[49m\u001b[43m(\u001b[49m\u001b[43mfid\u001b[49m\u001b[43m,\u001b[49m\u001b[43m \u001b[49m\u001b[43mval\u001b[49m\u001b[43m,\u001b[49m\n\u001b[0;32m    700\u001b[0m \u001b[43m                           \u001b[49m\u001b[43mallow_pickle\u001b[49m\u001b[38;5;241;43m=\u001b[39;49m\u001b[43mallow_pickle\u001b[49m\u001b[43m,\u001b[49m\n\u001b[0;32m    701\u001b[0m \u001b[43m                           \u001b[49m\u001b[43mpickle_kwargs\u001b[49m\u001b[38;5;241;43m=\u001b[39;49m\u001b[43mpickle_kwargs\u001b[49m\u001b[43m)\u001b[49m\n\u001b[0;32m    703\u001b[0m zipf\u001b[38;5;241m.\u001b[39mclose()\n",
      "File \u001b[1;32m~\\miniconda3\\envs\\ddp\\lib\\site-packages\\numpy\\lib\\format.py:678\u001b[0m, in \u001b[0;36mwrite_array\u001b[1;34m(fp, array, version, allow_pickle, pickle_kwargs)\u001b[0m\n\u001b[0;32m    676\u001b[0m     \u001b[38;5;28;01mif\u001b[39;00m pickle_kwargs \u001b[38;5;129;01mis\u001b[39;00m \u001b[38;5;28;01mNone\u001b[39;00m:\n\u001b[0;32m    677\u001b[0m         pickle_kwargs \u001b[38;5;241m=\u001b[39m {}\n\u001b[1;32m--> 678\u001b[0m     pickle\u001b[38;5;241m.\u001b[39mdump(array, fp, protocol\u001b[38;5;241m=\u001b[39m\u001b[38;5;241m3\u001b[39m, \u001b[38;5;241m*\u001b[39m\u001b[38;5;241m*\u001b[39mpickle_kwargs)\n\u001b[0;32m    679\u001b[0m \u001b[38;5;28;01melif\u001b[39;00m array\u001b[38;5;241m.\u001b[39mflags\u001b[38;5;241m.\u001b[39mf_contiguous \u001b[38;5;129;01mand\u001b[39;00m \u001b[38;5;129;01mnot\u001b[39;00m array\u001b[38;5;241m.\u001b[39mflags\u001b[38;5;241m.\u001b[39mc_contiguous:\n\u001b[0;32m    680\u001b[0m     \u001b[38;5;28;01mif\u001b[39;00m isfileobj(fp):\n",
      "\u001b[1;31mMemoryError\u001b[0m: "
     ]
    }
   ],
   "source": [
    "random.seed(0)\n",
    "np.random.seed(0)\n",
    "\n",
    "#first half\n",
    "# start = 0\n",
    "# end = int(num_true_vals/2)\n",
    "\n",
    "#second half's first quarter\n",
    "start = int(num_true_vals/2)\n",
    "end = int(3*num_true_vals/4)\n",
    "\n",
    "#second half's second quarter\n",
    "# start = int(3*num_true_vals/4)\n",
    "# end = num_true_vals\n",
    "\n",
    "tic = time.perf_counter()\n",
    "for j in range(start, end):\n",
    "    theta_star_j = theta_star_all[j]\n",
    "    for i in range(num_init_vals):\n",
    "        results_all[j][i] = estimate_theta_es(theta_init_all[i], theta_star=theta_star_j, M=M, K=K, T=T,\\\n",
    "                                              alpha=alpha, beta=beta, gamma=gamma, eps=eps, dep_rate=dep_rate, A=A, B=B)\n",
    "        theta_hat_t_all[:,i,j] = results_all[j][i]['theta_hat_t']\n",
    "        print(f\"theta_star={theta_star_j} run={i+1} done\")\n",
    "        with open('status_secondhalf.txt', 'w+') as f:\n",
    "            f.write(f\"theta_star={theta_star_j} ({j+1-start}/{end-start}) run={i+1}/{num_init_vals} done in {time.perf_counter()-tic}s\")\n",
    "    if (j+1)%5==0 or j==num_true_vals-1:\n",
    "        np.savez('./results/algo_performance_qs_first-'+str(j+1)+'.npz', M=M, K=K, T=T, \\\n",
    "             dep_rate=dep_rate, eps=eps, gamma=gamma, alpha=alpha, beta=beta, avg_over=avg_over,\\\n",
    "            num_init_vals= num_init_vals, num_true_vals=num_true_vals, theta_init_all=theta_init_all, \\\n",
    "            results_all=results_all, theta_hat_t_all=theta_hat_t_all, theta_hat_mean_all=theta_hat_mean_all,\\\n",
    "            theta_star_all=theta_star_all)\n",
    "    print(f\"theta_star={theta_star_j} done\")\n",
    "    theta_hat_mean_all[j] = np.mean(np.mean(theta_hat_t_all[-avg_over:,:,j], axis=0)) #average over the last 200 steps\n",
    "toc = time.perf_counter()\n",
    "print(f\"time={toc-tic}s\")"
   ]
  },
  {
   "cell_type": "code",
   "execution_count": 8,
   "id": "61f2152a-852a-44d7-a4fa-7671ce40ddbc",
   "metadata": {},
   "outputs": [
    {
     "data": {
      "text/plain": [
       "<matplotlib.legend.Legend at 0x28a1738be50>"
      ]
     },
     "execution_count": 8,
     "metadata": {},
     "output_type": "execute_result"
    },
    {
     "data": {
      "image/png": "[encoded data removed]",
      "text/plain": [
       "<Figure size 640x480 with 1 Axes>"
      ]
     },
     "metadata": {},
     "output_type": "display_data"
    }
   ],
   "source": [
    "for j in range(num_true_vals):\n",
    "    plt.scatter([theta_star_all[j]]*num_init_vals, np.mean(theta_hat_t_all[-avg_over:,:,j], axis=0))\n",
    "plt.plot(theta_star_all, theta_star_all, '--', label=\"y=x\")\n",
    "plt.plot(theta_star_all, theta_hat_mean_all, 'k*', label=r\"$\\hat{\\theta}$\")\n",
    "plt.xlabel(r\"$\\theta^*$\")\n",
    "plt.vlines(dep_rate, 0, 1, linestyles='dashed', label=\"dep_rate\", colors='gray')\n",
    "plt.ylabel(r\"parameter estimate $\\hat{\\theta}$\")\n",
    "plt.title(r\"$\\hat{\\theta}$ vs $\\theta^*$: Queueing System\")\n",
    "plt.legend()"
   ]
  },
  {
   "cell_type": "code",
   "execution_count": null,
   "id": "9eeadb54-8340-44e7-919d-a5759d382524",
   "metadata": {},
   "outputs": [],
   "source": [
    "plt.plot(theta_star_all, theta_hat_mean_all, '*', label=r\"$\\hat{\\theta}$\")\n",
    "plt.plot(theta_star_all, theta_star_all, '--', label=\"y=x\")\n",
    "plt.vlines(dep_rate, 0, 1, linestyles='dashed', label=\"dep_rate\", colors='k')\n",
    "plt.xlabel(r\"$\\theta^*$\")\n",
    "plt.ylabel(r\"parameter estimate from the algorithm $\\hat{\\theta}$\")\n",
    "plt.legend()"
   ]
  },
  {
   "cell_type": "code",
   "execution_count": null,
   "id": "62521563-674a-40f9-a68a-5f8c1177c84b",
   "metadata": {},
   "outputs": [],
   "source": [
    "k = 10\n",
    "for i in range(num_init_vals):\n",
    "    plt.plot(theta_hat_t_all[:,i,k])\n",
    "plt.hlines(theta_star_all[k], 0, T, linestyles='dashed', colors='k')"
   ]
  },
  {
   "cell_type": "code",
   "execution_count": null,
   "id": "b7ec93e9-551b-4c6e-870d-823b26d924ed",
   "metadata": {},
   "outputs": [],
   "source": [
    "k = 10\n",
    "plt.plot(results_all[k][i]['X'])\n",
    "plt.title(r\"$\\theta^*=$\"+str(round(theta_star_all[k], 3)))\n",
    "plt.ylabel(\"X\")\n",
    "plt.xlabel(\"time t\")"
   ]
  },
  {
   "cell_type": "code",
   "execution_count": null,
   "id": "e31aaf3f-09cb-453e-87ce-1c541da44ba2",
   "metadata": {},
   "outputs": [],
   "source": [
    "# np.savez_compressed('./results/algo_performance_qs_first-'+str(20)+'.npz', M=M, K=K, T=T, \\\n",
    "#              dep_rate=dep_rate, eps=eps, gamma=gamma, alpha=alpha, beta=beta, avg_over=avg_over,\\\n",
    "#             num_init_vals= num_init_vals, num_true_vals=num_true_vals, theta_init_all=theta_init_all, \\\n",
    "#             results_all=results_all, theta_hat_t_all=theta_hat_t_all, theta_hat_mean_all=theta_hat_mean_all,\\\n",
    "#             theta_star_all=theta_star_all)"
   ]
  },
  {
   "cell_type": "code",
   "execution_count": null,
   "id": "3f6b5bc7-cd88-42f6-82ab-f30a3e1a3c8f",
   "metadata": {},
   "outputs": [],
   "source": [
    "# #only the last 5 are saved\n",
    "# np.savez('./results/algo_performance_qs_last-'+str(5)+'.npz', M=M, K=K, T=T, \\\n",
    "#              dep_rate=dep_rate, eps=eps, gamma=gamma, alpha=alpha, beta=beta, avg_over=avg_over,\\\n",
    "#             num_init_vals= num_init_vals, num_true_vals=5, theta_init_all=theta_init_all, \\\n",
    "#             results_all=[results_all[j] for j in range(15, 20)], theta_hat_t_all=theta_hat_t_all[:,:,-5:], theta_hat_mean_all=theta_hat_mean_all[-5:],\\\n",
    "#             theta_star_all=theta_star_all[-5:])"
   ]
  },
  {
   "cell_type": "code",
   "execution_count": null,
   "id": "8c31b913-99ea-482c-b35f-20e6cff708b4",
   "metadata": {},
   "outputs": [],
   "source": [
    "# np.savez('./results/algo_ performance_qs.npz', M=M, K=K, T=T, \\\n",
    "#          dep_rate=dep_rate, eps=eps, gamma=gamma, alpha=alpha, beta=beta, avg_over=avg_over,\\\n",
    "#         num_init_vals= num_init_vals, num_true_vals=num_true_vals, theta_init_all=theta_init_all, \\\n",
    "#         results_all=results_all, theta_hat_t_all=theta_hat_t_all, theta_hat_mean_all=theta_hat_mean_all,\\\n",
    "#         theta_star_all=theta_star_all)"
   ]
  },
  {
   "cell_type": "code",
   "execution_count": null,
   "id": "9513bab2-b722-4fd5-8b6f-53a3961952f9",
   "metadata": {},
   "outputs": [],
   "source": []
  }
 ],
 "metadata": {
  "kernelspec": {
   "display_name": "Python 3 (ipykernel)",
   "language": "python",
   "name": "python3"
  },
  "language_info": {
   "codemirror_mode": {
    "name": "ipython",
    "version": 3
   },
   "file_extension": ".py",
   "mimetype": "text/x-python",
   "name": "python",
   "nbconvert_exporter": "python",
   "pygments_lexer": "ipython3",
   "version": "3.10.6"
  }
 },
 "nbformat": 4,
 "nbformat_minor": 5
}
